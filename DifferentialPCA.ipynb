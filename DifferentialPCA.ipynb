{
  "nbformat": 4,
  "nbformat_minor": 0,
  "metadata": {
    "kernelspec": {
      "display_name": "Python 3",
      "language": "python",
      "name": "python3"
    },
    "language_info": {
      "codemirror_mode": {
        "name": "ipython",
        "version": 3
      },
      "file_extension": ".py",
      "mimetype": "text/x-python",
      "name": "python",
      "nbconvert_exporter": "python",
      "pygments_lexer": "ipython3",
      "version": "3.8.8"
    },
    "colab": {
      "name": "DifferentialPCA.ipynb",
      "provenance": []
    }
  },
  "cells": [
    {
      "cell_type": "markdown",
      "metadata": {
        "id": "rKoY8D2jAn14"
      },
      "source": [
        "<a href=\"https://colab.research.google.com/github/differential-machine-learning/notebooks/blob/master/DifferentialPCA.ipynb\" target=\"_parent\"><img src=\"https://colab.research.google.com/assets/colab-badge.svg\" alt=\"Open In Colab\"/></a>"
      ]
    },
    {
      "cell_type": "markdown",
      "metadata": {
        "id": "ry17s9WGAn18"
      },
      "source": [
        "# Differential PCA\n",
        "\n",
        "---\n",
        "Brian Huge & Antoine Savine, July 2021\n",
        "---\n",
        "\n",
        "\n",
        "This notebook implements differential PCA, an application of <b> differential machine learning </b> to dimension reduction. Differential ML was introduced in our October 2020 Risk article [Differential Machine Learning: the Shape of Things to Come](https://www.risk.net/cutting-edge/banking/7688441/differential-machine-learning-the-shape-of-things-to-come). Its main promise is the design of novel, more effective, ML algorithms based on the availability of <b> differential labels </b>. Classic datasets in machine learning include inputs $X\\in\\mathbb{R}^n$ and labels $Y \\in \\mathbb{R}$. Differential labels are defined as the gradients of labels $Y$ wrt inputs $X$:\n",
        "    \n",
        "        \n",
        "$$Z^{\\left(i\\right)} \\equiv \\frac{\\partial Y^{\\left(i\\right)}}{\\partial X^{\\left(i\\right)}} \\in \\mathbb{R}^n$$\n",
        "    \n",
        "Differential labels are easily and efficiently computed with [algorithmic adjoint differentiation (AAD)](https://sites.google.com/view/antoinesavine-aad) in some situations, like simulated datasets in finance.\n",
        "\n",
        "Differential PCA leverages differential labels to perform dimension reduction in a safer and more effective manner than classic PCA or other classic dimension reduction algorithms. Differential PCA is introduced in our October 2021 follow-up Risk article <b> Axes that matter: PCA with a difference. </b> Classic PCA projects data on axes of orthogonal variation and truncates coordinates on axes of insignificant variation. We demonstrate in the article that classic PCA is unsafe and ineffective in financial applications, because variation is not the correct metric. Small variations in the input space may have large repercutions on a given Derivatives transaction or trading book, so PCA may unwillingly truncate critical information from the data. Conversely, directions of large variation may be irrelevant for the target, preventing PCA to reduce dimension as much as would be otherwise possible. \n",
        "\n",
        "By contrast, differential PCA projects data on axes of principal <b> relevance</b>, revealed by singular value decomposition (SVD) of the differential data $Z$. We demonstrate in the paper that differential PCA is safe, in the sense that it guarantees that no information meaningful for the target may be lost in dimension reduction. It is also effective, in the sense that further (linear) dimension reduction cannot be performed without deletion of meaningful information. \n",
        "\n",
        "Differential PCA is discussed in detail in the article. This notebook provides an implementation, along with basic application examples. The follow-up notebook [Bermudan5F.ipynb](https://github.com/differential-machine-learning/notebooks/blob/master/Bermudan5F.ipynb) applies differential PCA to the practical problem of Bermudan swaptions, illustrating the shortcomings of classic PCA in a context of practical relevance where we also illustrate the properties and benefits of the differential counterpart, and demonstrate its application to identify Derivatives risks from simulated data."
      ]
    },
    {
      "cell_type": "markdown",
      "metadata": {
        "id": "5iVi2n9nAn1-"
      },
      "source": [
        "# Imports"
      ]
    },
    {
      "cell_type": "code",
      "metadata": {
        "id": "Xc6xxocRAn1_",
        "outputId": "cfad62d6-3867-4e20-b5d8-9d4ca0afb91a",
        "colab": {
          "base_uri": "https://localhost:8080/",
          "height": 34
        }
      },
      "source": [
        "if 'google.colab' in str(get_ipython()):\n",
        "    colab = True\n",
        "    print('Running on CoLab')\n",
        "else:\n",
        "    colab = False\n",
        "    # enable full width for wide figures\n",
        "    from IPython.core.display import display, HTML\n",
        "    display(HTML(\"<style>.container { width:100% !important; }</style>\"))\n",
        "    display(HTML(\"<style>.output_result { max-width:100% !important; }</style>\"))\n",
        "    print('Not running on CoLab')\n",
        "\n",
        "if colab:\n",
        "  %matplotlib inline\n",
        "else:\n",
        "  %matplotlib notebook\n",
        "\n",
        "import matplotlib as mpl\n",
        "import matplotlib.pyplot as plt\n",
        "from matplotlib.animation import FuncAnimation, PillowWriter\n",
        "mpl.rc('axes', labelsize=14)\n",
        "mpl.rc('xtick', labelsize=12)\n",
        "mpl.rc('ytick', labelsize=12)\n",
        "if colab == True: mpl.rc('animation', html='jshtml')\n",
        "\n",
        "import numpy as np\n",
        "import matplotlib.pyplot as plt\n",
        "from sklearn.linear_model import LinearRegression, Ridge, RidgeCV  \n",
        "from sklearn.preprocessing import PolynomialFeatures \n",
        "from sklearn.decomposition import PCA\n",
        "from sklearn.pipeline import make_pipeline\n",
        "\n",
        "from scipy.stats import norm # cumulative normal distribution\n",
        "\n",
        "# enable full width for wide figures\n",
        "from IPython.core.display import display, HTML\n",
        "display(HTML(\"<style>.container { width:100% !important; }</style>\"))\n",
        "display(HTML(\"<style>.output_result { max-width:100% !important; }</style>\"))\n",
        "\n",
        "# constants\n",
        "epsilon = 1.0e-08"
      ],
      "execution_count": 1,
      "outputs": [
        {
          "output_type": "stream",
          "text": [
            "Running on CoLab\n"
          ],
          "name": "stdout"
        },
        {
          "output_type": "display_data",
          "data": {
            "text/html": [
              "<style>.container { width:100% !important; }</style>"
            ],
            "text/plain": [
              "<IPython.core.display.HTML object>"
            ]
          },
          "metadata": {
            "tags": []
          }
        },
        {
          "output_type": "display_data",
          "data": {
            "text/html": [
              "<style>.output_result { max-width:100% !important; }</style>"
            ],
            "text/plain": [
              "<IPython.core.display.HTML object>"
            ]
          },
          "metadata": {
            "tags": []
          }
        }
      ]
    },
    {
      "cell_type": "markdown",
      "metadata": {
        "id": "2qQsm3BpAn2A"
      },
      "source": [
        "# Implementation"
      ]
    },
    {
      "cell_type": "markdown",
      "metadata": {
        "id": "mcYbXS9lAn2B"
      },
      "source": [
        "The <b> DiffPCA </b> class defined below implements differential PCA with an API similar to [scikit-learn's PCA](https://scikit-learn.org/stable/modules/generated/sklearn.decomposition.PCA.html) to project data on axes of principal relevance revealed by eigenvalue decomposition of the covariance matrix of differential data. \n",
        "\n",
        "The constructor takes 2 parameters: <i> n_components </i> and <i> central </i>. \n",
        "The parameter <i> n_components </i> is identical to scikit-learn's PCA: if omitted, data is re-paramterized in terms of coordinates on axes othogonal and decreasing relevance, but no dimension reduction is performed. If <i> n_components </i> is a positive integer, the data is projected on the <i> n_components </i> principal axes of relevance, truncating coordinates on the remaining <i> n_features - n_components </i> axes, where <i> n_features </i> is the original dimension of the data. If <i> n_components </i> is a real number between 0 and 1, dimension reduction is set to explain at least the proportion <i> n_components </i> of the total relevance, in other terms, the (squared) error of projected gradients (denoted $\\epsilon$ in the article) is smaller than  <i> 1 - n_components </i>.\n",
        "The parameter <i> central </i> may be set to perform central differential PCA, as discussed in the article. Default is non-central DPCA, the correct alternative for most applications.\n",
        "\n",
        "The <i> fit </i> method performs differential PCA, i.e. eigenvalue decomposition of gradient covariance. It takes input data $X$ and differential data $Z$ for compulsory arguments. For consistency with scikit-learn's PCA, it also takes labels $y$ as an optional argument, which is ignored.\n",
        "Results are available after fitting in the following attributes:\n",
        "- <i> n_samples_ </i> (integer) the number of training examples\n",
        "- <i> n_features_ </i> (integer) the dimension of original data\n",
        "- <i> mean_ </i> (vector of dimension n_features_) the means of the original data columns\n",
        "- <i> n_components_ </i> (integer) the reduced dimension\n",
        "- <i> components_ </i> (matrix of dimension n_components_ x n_features_) the n_components_ axes of relevance, represented by (othogonal) unit vectors and sorted by decreasing relevance\n",
        "- <i> explained_variance_ </i> (vector of dimension n_components_) the relevance (gradient magnitude) of the n_components_ principal axes\n",
        "- <i> explained_variance_ratio_ </i> (vector of dimension n_components_) = explained_variance_ / total_relevance (sum of relevances of the n_features_ axes)\n",
        "- <i> singular_values_ </i> (vector of dimension n_components_) = sqrt (explained_variance_)\n",
        "- <i> noise_variance_ </i> (vector of dimension n_components_) = total_relevance - sum (explained_variance_)\n",
        "\n",
        "The <i> transform </i> method performs dimension reduction by projecting some data $X$ onto the principal components computed by <i> fit </i>. This method can also project derivatives $Z=\\partial V / \\partial X$. If $Z$ is passed, the derivatives wrt reduced data $L$ (for 'latent'),  $S=\\partial V / \\partial L$, is returned along with reduced data $L$.\n",
        "\n",
        "As customary in scikit-learn, <i> fit_transform </i> combines  <i> fit </i> and <i> transform </i> and <i> inverse_transform </i> reconstructs $X$ (and optionally $Z$) from $L$ (and optionally $S$). Reconstruction is performed in the least-square sense, the information lost in truncation cannot be recovered."
      ]
    },
    {
      "cell_type": "code",
      "metadata": {
        "id": "7dxtBHHiAn2C"
      },
      "source": [
        "class DiffPCA:\n",
        "    \n",
        "    def __init__(self, n_components=None, central=False):\n",
        "        \"\"\"\n",
        "        The API is consistent with sklearn.decomposition.PCA \n",
        "        (see https://scikit-learn.org/stable/modules/generated/sklearn.decomposition.PCA.html)\n",
        "        \n",
        "        n_components = number of components to keep. If n_components is None all components are kept:\n",
        "        n_components == n_features\n",
        "        \n",
        "        If 0 < n_components < 1, select the number of components such that \n",
        "        the amount of 'variance' (squared magnitude) that needs to be explained is greater than the percentage specified by n_components\n",
        "        \n",
        "        Default = squared error magnitude (epsilon*total_variance in the article) of 10^(-8), i.e. error norm is 0.01% of total norm\n",
        "                        \n",
        "        central = specific to differential PCA, standard scikit-learn PCA is always central. By contrast, \n",
        "        differential PCA is noncentral by default, see article\n",
        "        \"\"\"\n",
        "        \n",
        "        self.n_components = n_components\n",
        "        self.central = central\n",
        "        \n",
        "    def fit(self, X, Z, y=None): # note y is ignored, just like in scikit-learn PCA\n",
        "        \"\"\"\n",
        "        X: input data\n",
        "        Z: differential data = dy/dZ, see article\n",
        "        (y: labels)\n",
        "        \"\"\"\n",
        "        \n",
        "        # data shape\n",
        "        self.n_samples_, self.n_features_ = X.shape\n",
        "        \n",
        "        # central?\n",
        "        self.mean_ = Z.mean(axis=0) # average differentials\n",
        "            \n",
        "        # compute covariance matrix of differentials\n",
        "        z = Z - self.mean_ if self.central else Z\n",
        "        self.cov_ = z.T @ z / self.n_samples_\n",
        "        \n",
        "        # eigenvalue decomposition\n",
        "        d, P = np.linalg.eigh(self.cov_)\n",
        "                \n",
        "        # reverse order so largest eigenvalues come first\n",
        "        d = d[::-1]\n",
        "        P = P[:, ::-1]\n",
        "        \n",
        "        sumd = np.cumsum(d)\n",
        "        total_variance = sumd[-1]\n",
        "\n",
        "        # find the number of principal components\n",
        "        if self.n_components is not None: \n",
        "            # n_components is larger than 1 = number of components\n",
        "            if self.n_components >= 1:\n",
        "                self.n_components_ = self.n_components\n",
        "            # n_components is smaller than 1 = square magnitude explained\n",
        "            else:\n",
        "                sumd /= total_variance\n",
        "                self.n_components_ = np.searchsorted(sumd, self.n_components) + 1\n",
        "            \n",
        "        else:\n",
        "            self.n_components_ = min(self.n_samples_, self.n_features_)\n",
        "            \n",
        "        explained = sumd[self.n_components_-1]\n",
        "        unexplained = total_variance - explained\n",
        "\n",
        "        # filter irrelevant components\n",
        "        d = d[:self.n_components_]\n",
        "        P = P[:, :self.n_components_]\n",
        "            \n",
        "        # results, attributes as in sklearn.decomposition.PCA\n",
        "        self.components_ = P.T\n",
        "        self.explained_variance_ = d\n",
        "        self.explained_variance_ratio_ = d / total_variance\n",
        "        self.singular_values_ = np.sqrt(d)\n",
        "        self.noise_variance_ = unexplained\n",
        "        \n",
        "    def transform(self, X, Z=None): \n",
        "        \n",
        "        # transformed dataset\n",
        "        L = X @ self.components_.T\n",
        "        \n",
        "        if Z is None:\n",
        "            return L\n",
        "        \n",
        "        else:\n",
        "            # transformed derivatives\n",
        "            S = Z @ self.components_.T\n",
        "            return L, S\n",
        "        \n",
        "    def fit_transform(self, X, Z, y=None):\n",
        "        self.fit(X, Z, y)\n",
        "        return self.transform(X, Z)\n",
        "    \n",
        "    def inverse_transform(self, L, S=None):\n",
        "        \n",
        "        # L to X\n",
        "        X = L @ self.components_\n",
        "        \n",
        "        if S is None:\n",
        "            return X\n",
        "        \n",
        "        else:\n",
        "            # S to Z\n",
        "            Z = S @ self.components_\n",
        "            return X, Z"
      ],
      "execution_count": 2,
      "outputs": []
    },
    {
      "cell_type": "markdown",
      "metadata": {
        "id": "kxUqa1AOAn2E"
      },
      "source": [
        "# Bachelier basket dataset"
      ]
    },
    {
      "cell_type": "markdown",
      "metadata": {
        "id": "heVfZEPzAn2F"
      },
      "source": [
        "We demonstrate differential PCA with a basic Bachelier basket simulator, similar to the ones implemented in [DifferentialML.ipynb](https://github.com/differential-machine-learning/notebooks/blob/master/DifferentialML.ipynb.ipynb) for the demonstration of differential neural networks, and [DifferentialRegression.ipynb](https://github.com/differential-machine-learning/notebooks/blob/master/DifferentialRegression.ipynb) for the demonstration of differential regression. We start with an implementation of Bachelier analytics, so we can compare results with correct prices. "
      ]
    },
    {
      "cell_type": "code",
      "metadata": {
        "id": "-lTw2LZ1An2H"
      },
      "source": [
        "# Bachelier analytics \n",
        "\n",
        "def Bachelier(S, K, sigma, T):\n",
        "    d = (S - K) / sigma / np.sqrt(T)\n",
        "    return  sigma * np.sqrt(T) * (d * norm.cdf(d) + norm.pdf(d))\n",
        "\n",
        "def BachelierDelta(S, K, sigma, T):\n",
        "    d = (S - K) / sigma / np.sqrt(T)\n",
        "    return norm.cdf(d)"
      ],
      "execution_count": 3,
      "outputs": []
    },
    {
      "cell_type": "markdown",
      "metadata": {
        "id": "xZ_UdtQJAn2H"
      },
      "source": [
        "Next, we have some helper functions to randomly generate model configurations: stock volatility and correlation."
      ]
    },
    {
      "cell_type": "code",
      "metadata": {
        "id": "ZVMlTJwiAn2I"
      },
      "source": [
        "# Helpers to generate random volatilities and correlations for the stock market\n",
        "\n",
        "# generates random stock volatilities\n",
        "def genVols(num_stocks, lower=5, upper=50):\n",
        "    vols = np.random.uniform(low=lower, high=upper, size=(num_stocks, 1))\n",
        "    return vols\n",
        "\n",
        "# generates a random correlation matrix\n",
        "def genCorrel(num_stocks):\n",
        "    randoms = np.random.uniform(low=-1., high=1., size=(2*num_stocks, num_stocks))\n",
        "    cov = randoms.T @ randoms\n",
        "    invvols = np.diag(1. / np.sqrt(np.diagonal(cov)))\n",
        "    return np.linalg.multi_dot([invvols, cov, invvols])\n",
        "\n"
      ],
      "execution_count": 4,
      "outputs": []
    },
    {
      "cell_type": "markdown",
      "metadata": {
        "id": "1IvAw8mlAn2I"
      },
      "source": [
        "Next, we have more helper functions to conveniently generate basket options with random basket weights, strike and notional. We also have functions to randomly set basket volatility and scale basket weights accordingly. "
      ]
    },
    {
      "cell_type": "code",
      "metadata": {
        "id": "04D4cY4dAn2J"
      },
      "source": [
        "# Helpers to generate random basket options\n",
        "\n",
        "# generates random notional\n",
        "def genNotional(lower=1, upper=10):\n",
        "    notional = np.random.uniform(low=lower, high=upper)\n",
        "    return notional\n",
        "\n",
        "# generates random strike\n",
        "def genStrike(lower=50, upper=150):\n",
        "    strike = np.random.uniform(low=lower, high=upper)\n",
        "    return strike\n",
        "\n",
        "# generates random positive weights summing to 1\n",
        "def genWeights(num_stocks):\n",
        "    w = np.random.uniform(size=(num_stocks, 1))\n",
        "    return w / w.sum()\n",
        "\n",
        "# generates a random basket volatility\n",
        "def genBktVol(lower=10, upper=30):\n",
        "    bkt_vol = np.random.uniform(low=lower, high=upper)\n",
        "    return bkt_vol\n",
        "\n",
        "# compute basket volatility\n",
        "def basketVol(weights, stock_vols, stock_correl):\n",
        "    weighted_vols = weights * stock_vols\n",
        "    bkt_vol = np.sqrt(np.linalg.multi_dot([weighted_vols.T, stock_correl, weighted_vols])).item()\n",
        "    return bkt_vol"
      ],
      "execution_count": 5,
      "outputs": []
    },
    {
      "cell_type": "markdown",
      "metadata": {
        "id": "_gDEVpc6An2K"
      },
      "source": [
        "Next, we have a basic structure to hold the parameters of a basket option, and functions to create basket options, either randomly or with given parameters, and update weights to match given basket volatility."
      ]
    },
    {
      "cell_type": "code",
      "metadata": {
        "id": "Ei1m276HAn2K"
      },
      "source": [
        "# basket structure\n",
        "\n",
        "from collections import namedtuple\n",
        "Basket = namedtuple(\"Basket\", \"notional strike weights\")\n",
        "\n",
        "# create a basket option\n",
        "def makeBasket(num_stocks, notional=None, strike=None, weights=None): # None = generate randomly\n",
        "    \n",
        "    n = genNotional() if notional is None else notional\n",
        "    k = genStrike() if strike is None else strike    \n",
        "    w = genWeights(num_stocks) if weights is None else np.array(weights).reshape(num_stocks, 1)\n",
        "    \n",
        "    return Basket(n, k, w)\n",
        "\n",
        "# update weights and strike to match some target basket volatility\n",
        "def updateBasket(basket, stock_vols, stock_correl, tgt_bkt_vol=None):\n",
        "    \n",
        "    bkt_vol = basketVol(basket.weights, stock_vols, stock_correl)\n",
        "    tgt = genBktVol() if tgt_bkt_vol is None else tgt_bkt_vol\n",
        "    ratio = tgt / bkt_vol\n",
        "    \n",
        "    return Basket(basket.notional, ratio * basket.strike, ratio * basket.weights)"
      ],
      "execution_count": 6,
      "outputs": []
    },
    {
      "cell_type": "markdown",
      "metadata": {
        "id": "b2Ws4gNgAn2L"
      },
      "source": [
        "Finally, we have the simulator class.\n",
        "\n",
        "The constructor takes the following arguments:\n",
        "- <i> num_stocks </i> (integer) the number of stocks in the universe\n",
        "- <i> num_baskets </i> (integer) the number of basket options in the book\n",
        "- <i> maturity </i> (real number) the maturity of basket options in years (same for all basket options for simplicity)\n",
        "- <i> stock_vols </i> (vector of dimension num_stocks) the normal stock volatilities, randomly generated if omitted\n",
        "- <i> stock_correl </i> (squared matrix of dimension num_stocks) the stock correlation, randomly generated if omitted\n",
        "- <i> baskets </i> (collection of num_baskets Basket objects) the parameters of the basket options, randomly generated if omitted\n",
        "- <i> tgt_bkt_vols </i> (vector of dimension num_baskets) the target volatilities for the baskets (weights are rescaled accordingly), randomly generated if omitted\n",
        "- <i> seed </i> (integer) the seed for random generations, 0 if omitted\n",
        "\n",
        "The method <b> trainSet </b> generates a (differential) training set. It takes the following arguments:\n",
        "- <i> num_examples </i> (integer) the number of training examples\n",
        "- <i> lower, upper </i> (two real numbers) the lower and upper bounds for initial stock prices\n",
        "- <i> seed </i> (integer) the seed for the Monte-Carlo simulations\n",
        "\n",
        "It returns a (differential) training set $X$, $y$, $Z$ where:\n",
        "- <i> $X$ </i> (matrix of dimension num_examples x num_stocks) are the initial stock prices\n",
        "- <i> $y$ </i> (vector of dimension num_examples) are the corresponding subsequent combined payoffs of all the basket options in the portfolio, picked on one MC path with initial state $X$\n",
        "- <i> $Z$ </i> (matrix of dimension num_examples x num_stocks) are the differential labels $\\partial y / \\partial X$\n",
        "\n",
        "The method <b> testSet </b> generates a test set $X$, $y$, $Z$ where $X$ is an independent set of initial stock prices, $y$ are the corresponding <b> correct </b> basket option prices (actually, the sum of basket option prices in the book, i.e. correct book value) computed analytically with Bachelier's formula, and $Z$ are the deltas $\\partial y / \\partial X$.\n",
        "\n",
        "\n",
        "\n",
        "\n"
      ]
    },
    {
      "cell_type": "code",
      "metadata": {
        "id": "Pa9EipvEAn2L"
      },
      "source": [
        "class BachelierSimulator():\n",
        "    \n",
        "    # None = generate randomly\n",
        "    def __init__(self, num_stocks, num_baskets, maturity, stock_vols=None, stock_correl=None, baskets=None, tgt_bkt_vols=None, seed=0):\n",
        "        self.num_stocks = num_stocks\n",
        "        self.num_baskets = num_baskets\n",
        "        self.maturity = maturity\n",
        "        self.sqrtT = np.sqrt(maturity)\n",
        "        \n",
        "        np.random.seed(seed)\n",
        "        \n",
        "        self.vols = genVols(num_stocks) if stock_vols is None else np.array(stock_vols).reshape(num_stocks, 1)\n",
        "        self.correl = genCorrel(num_stocks) if stock_correl is None else np.array(stock_correl).reshape(num_stocks, num_stocks)\n",
        "        \n",
        "        baskets = [makeBasket(num_stocks) for _ in range(num_baskets)] if baskets is None else baskets\n",
        "        self.bkt_vol = np.array([genBktVol() for _ in baskets])\n",
        "        self.baskets = [updateBasket(basket, self.vols, self.correl, bkt_vol) for basket, bkt_vol in zip (baskets, self.bkt_vol)]\n",
        "        \n",
        "        vT = np.diag(self.vols.ravel()) * self.sqrtT\n",
        "        self.cov = np.linalg.multi_dot([vT, self.correl, vT])\n",
        "        self.chol = np.linalg.cholesky(self.cov) \n",
        "                \n",
        "    # simulate (differential) training set, returns X, Y, Z where\n",
        "    # X = initial state in dimension num_stocks = initial stock prices\n",
        "    # Y = payoff of the basket option(s)\n",
        "    # Z = dY / dX in dimension num_stocks, i.e. pathwise derivatives\n",
        "    def trainSet(self, num_examples, lower=25, upper=175, seed=0):\n",
        "        np.random.seed(seed)\n",
        "\n",
        "        s0 = np.random.uniform(low=lower, high=upper, size=(num_examples, self.num_stocks))\n",
        "        wT = np.random.normal(size=(num_examples, self.num_stocks))\n",
        "        sT = s0 + wT @ self.chol.T\n",
        "        \n",
        "        pay, deriv = np.zeros((num_examples, 1)), np.zeros((num_examples, self.num_stocks))\n",
        "        for basket in self.baskets:\n",
        "            bT = np.dot(sT, basket.weights)\n",
        "            pay += np.maximum(0, bT - basket.strike)\n",
        "            deriv += np.where(bT > basket.strike, 1, 0).reshape(-1, 1) * basket.weights.reshape(1, -1)\n",
        "        \n",
        "        return s0, pay, deriv\n",
        "    \n",
        "    # simulate (independent) test set, returns X, Y, Z where\n",
        "    # X = initial state in dimension num_stocks = initial stock prices\n",
        "    # Y = price of the basket option(s)\n",
        "    # Z = dY / dX in dimension num_stocks, i.e. deltas    \n",
        "    def testSet(self, num_examples, lower=40, upper=160, seed=1024): # must be a different seed\n",
        "        np.random.seed(seed)\n",
        "        \n",
        "        s0 = np.random.uniform(low=lower, high=upper, size = (num_examples, self.num_stocks))\n",
        "        \n",
        "        prices, deltas = np.zeros((num_examples, 1)), np.zeros((num_examples, self.num_stocks))\n",
        "        for basket, vol in zip(self.baskets, self.bkt_vol):\n",
        "            b0 = np.dot(s0, basket.weights)\n",
        "            prices += Bachelier(b0, basket.strike, vol, self.maturity)\n",
        "            deltas += BachelierDelta(b0, basket.strike, vol, self.maturity) @ basket.weights.reshape(1, -1)\n",
        "        \n",
        "        return s0, prices, deltas"
      ],
      "execution_count": 7,
      "outputs": []
    },
    {
      "cell_type": "markdown",
      "metadata": {
        "id": "v9JKMkRmAn2L"
      },
      "source": [
        "# Differential PCA on Bachelier basket dataset: one basket option"
      ]
    },
    {
      "cell_type": "markdown",
      "metadata": {
        "id": "1YD9JBz2An2L"
      },
      "source": [
        "As a first demonstration example, we simulate a training set for one basket option."
      ]
    },
    {
      "cell_type": "code",
      "metadata": {
        "id": "QJiC8cu7An2M",
        "outputId": "4620440a-0b7f-48ea-c6bc-1e530302b4df",
        "colab": {
          "base_uri": "https://localhost:8080/"
        }
      },
      "source": [
        "# test for 1 basket\n",
        "\n",
        "num_stocks = 20\n",
        "num_baskets = 1\n",
        "\n",
        "seed = np.random.randint(131072)\n",
        "print(\"using training seed\", seed)\n",
        "\n",
        "bach = BachelierSimulator(num_stocks, num_baskets, 3, seed=seed)\n",
        "\n",
        "# enough examples so we don't worry about overfitting in low dimension\n",
        "num_examples = 131072\n",
        "\n",
        "x_train, y_train, z_train = bach.trainSet(num_examples, seed=seed)\n",
        "\n",
        "num_test = 1024\n",
        "test_seed = np.random.randint(131072)\n",
        "print(\"using test seed\", test_seed)\n",
        "\n",
        "x_test, y_test, z_test = bach.testSet(num_test, seed=test_seed)"
      ],
      "execution_count": 8,
      "outputs": [
        {
          "output_type": "stream",
          "text": [
            "using training seed 110007\n",
            "using test seed 24557\n"
          ],
          "name": "stdout"
        }
      ]
    },
    {
      "cell_type": "markdown",
      "metadata": {
        "id": "nkRmLAAhAn2M"
      },
      "source": [
        "Perform differential PCA on the training set, with error tolerance $\\epsilon = 10^{-8}$. "
      ]
    },
    {
      "cell_type": "code",
      "metadata": {
        "id": "DuUlVvQ_An2N"
      },
      "source": [
        "# differential PCA\n",
        "\n",
        "dpca = DiffPCA(1.0-epsilon)\n",
        "\n",
        "# L = latent representation in low dimension, S = dY / dL\n",
        "L, S = dpca.fit_transform(x_train, z_train)"
      ],
      "execution_count": 9,
      "outputs": []
    },
    {
      "cell_type": "markdown",
      "metadata": {
        "id": "5SJc7kkhAn2N"
      },
      "source": [
        "Check that dimension was correctly reduced to one, as we know that basket option values only depend on the basket in the Gaussian model."
      ]
    },
    {
      "cell_type": "code",
      "metadata": {
        "id": "PMlgkrEFAn2O",
        "outputId": "1f1b3787-27f3-456b-b515-f2a3050010f5",
        "colab": {
          "base_uri": "https://localhost:8080/"
        }
      },
      "source": [
        "# dimension reduction\n",
        "\n",
        "# initial\n",
        "print(x_train.shape, z_train.shape) # 131072 x 20\n",
        "\n",
        "# reduced\n",
        "print(L.shape, S.shape) # 131072 x 1\n"
      ],
      "execution_count": 10,
      "outputs": [
        {
          "output_type": "stream",
          "text": [
            "(131072, 20) (131072, 20)\n",
            "(131072, 1) (131072, 1)\n"
          ],
          "name": "stdout"
        }
      ]
    },
    {
      "cell_type": "markdown",
      "metadata": {
        "id": "tn14ApgkAn2O"
      },
      "source": [
        "Next, we check that no relevant information was lost in dimension reduction. We check this simply by learning the pricing function by polynomial regression in the reduced space, and compare with the correct pricing function on the test set. The code for polynomial regression uses scikit-learn's [PolynomialFeatures](https://scikit-learn.org/stable/modules/generated/sklearn.preprocessing.PolynomialFeatures.html) and [LinearRegression](https://scikit-learn.org/stable/modules/generated/sklearn.linear_model.LinearRegression.html) in a [Pipeline](https://scikit-learn.org/stable/modules/generated/sklearn.pipeline.Pipeline.html) and is copied from [DifferentialRegression.ipynb](DifferentialRegression.ipynb). \n",
        "\n",
        "Note that the original dimension is too high to perform regression, more sophisticated learning algorithms like neural networks would be necessary for the task."
      ]
    },
    {
      "cell_type": "code",
      "metadata": {
        "id": "IbT41dX_An2O"
      },
      "source": [
        "# polynomial regression, for tests\n",
        "\n",
        "def make_polynomial(degree=5):\n",
        "    return make_pipeline(PolynomialFeatures(degree=degree), LinearRegression(normalize=True))\n",
        "\n",
        "poly_reg = make_polynomial()"
      ],
      "execution_count": 11,
      "outputs": []
    },
    {
      "cell_type": "code",
      "metadata": {
        "id": "N25WDfmiAn2O",
        "outputId": "e1b75d90-731e-466b-a75c-33b10240a466",
        "colab": {
          "base_uri": "https://localhost:8080/",
          "height": 268
        }
      },
      "source": [
        "# polynomial regression in the reduced dimension space\n",
        "poly_reg.fit(L, y_train)\n",
        "\n",
        "# predict test set \n",
        "pred = poly_reg.predict(dpca.transform(x_test))\n",
        "\n",
        "# plot results\n",
        "plt.figure()\n",
        "plt.plot(y_test, pred, 'co', markerfacecolor=\"white\", label=\"predicted\")\n",
        "plt.plot(y_test, y_test, 'r--', label=\"ground truth\")\n",
        "plt.legend()\n",
        "plt.show()"
      ],
      "execution_count": 12,
      "outputs": [
        {
          "output_type": "display_data",
          "data": {
            "image/png": "[encoded data removed]",
            "text/plain": [
              "<Figure size 432x288 with 1 Axes>"
            ]
          },
          "metadata": {
            "tags": [],
            "needs_background": "light"
          }
        }
      ]
    },
    {
      "cell_type": "markdown",
      "metadata": {
        "id": "Z-lUapdLAn2P"
      },
      "source": [
        "We see that the predictions match correct values, demonstrating that a correct pricing function was learned from the reduced data, hence confirming that no relevant information was truncated. Finally, we check that the one relevant axis exactly corresponds to the (scaled) basket weights. "
      ]
    },
    {
      "cell_type": "code",
      "metadata": {
        "id": "w5X4zGDXAn2P",
        "outputId": "d5d60182-bed8-4e07-bbc7-6e3b1c11037e",
        "colab": {
          "base_uri": "https://localhost:8080/"
        }
      },
      "source": [
        "# compare principal axis to normalized basket weights\n",
        "\n",
        "print(dpca.n_components_) #1\n",
        "\n",
        "axis = dpca.components_[0]\n",
        "weights = bach.baskets[0].weights\n",
        "normalized = (weights / np.linalg.norm(weights)).ravel()\n",
        "\n",
        "print(np.allclose(axis, normalized)) # True"
      ],
      "execution_count": 13,
      "outputs": [
        {
          "output_type": "stream",
          "text": [
            "1\n",
            "True\n"
          ],
          "name": "stdout"
        }
      ]
    },
    {
      "cell_type": "markdown",
      "metadata": {
        "id": "_3xltdoaAn2P"
      },
      "source": [
        "As mathematically demonstrated in the article, differential PCA correctly identified that the financial product only depends on the initial basket, and correctly estimated its weights, from simulated data, without knowing anything about the product being a basket option. Differential PCA performed a drastic dimension reduction, transforming multi-dimensional stock data into one-dimensional basket data, without loss of relevant information. The polynomial regression simply approximated Bachelier's pricing function with polynomials. "
      ]
    },
    {
      "cell_type": "markdown",
      "metadata": {
        "id": "J4n27QvuAn2P"
      },
      "source": [
        "# Differential PCA on Bachelier basket dataset: multiple basket options"
      ]
    },
    {
      "cell_type": "markdown",
      "metadata": {
        "id": "AAXWOx_wAn2P"
      },
      "source": [
        "We easily generalize to a portoflio of multiple basket options below. Simulate training and test sets:"
      ]
    },
    {
      "cell_type": "code",
      "metadata": {
        "id": "56_OcTIVAn2Q",
        "outputId": "2d7b3387-94f2-4d13-f9ad-64aa7cbcf65c",
        "colab": {
          "base_uri": "https://localhost:8080/"
        }
      },
      "source": [
        "# test for 3 baskets\n",
        "\n",
        "num_stocks = 20\n",
        "num_baskets = 3\n",
        "\n",
        "seed = np.random.randint(131072)\n",
        "print(\"using training seed\", seed)\n",
        "\n",
        "bach3 = BachelierSimulator(num_stocks, num_baskets, 3, seed=seed)\n",
        "\n",
        "# enough so we don't worry about overfitting in low dimension\n",
        "num_examples = 131072\n",
        "\n",
        "x_train, y_train, z_train = bach3.trainSet(num_examples, seed=seed)\n",
        "\n",
        "num_test = 1024\n",
        "test_seed = np.random.randint(131072)\n",
        "print(\"using test seed\", test_seed)\n",
        "\n",
        "x_test, y_test, z_test = bach3.testSet(num_test, seed=test_seed)"
      ],
      "execution_count": 14,
      "outputs": [
        {
          "output_type": "stream",
          "text": [
            "using training seed 100931\n",
            "using test seed 81709\n"
          ],
          "name": "stdout"
        }
      ]
    },
    {
      "cell_type": "markdown",
      "metadata": {
        "id": "OSMcuzMcAn2Q"
      },
      "source": [
        "Perform differential PCA and check that dimension was reduced to the number of baskets:"
      ]
    },
    {
      "cell_type": "code",
      "metadata": {
        "id": "TzcyMTSUAn2Q",
        "outputId": "56e796cf-18b2-4c97-d08c-2964c35a60b1",
        "colab": {
          "base_uri": "https://localhost:8080/"
        }
      },
      "source": [
        "# differential PCA\n",
        "\n",
        "# L = latent representation in low dimension, S = dY / dL\n",
        "L, S = dpca.fit_transform(x_train, z_train)\n",
        "\n",
        "# dimension reduction\n",
        "\n",
        "# initial\n",
        "print(x_train.shape, z_train.shape) # 131072 x 20\n",
        "\n",
        "# reduced\n",
        "print(L.shape, S.shape) # 131072 x 3"
      ],
      "execution_count": 15,
      "outputs": [
        {
          "output_type": "stream",
          "text": [
            "(131072, 20) (131072, 20)\n",
            "(131072, 3) (131072, 3)\n"
          ],
          "name": "stdout"
        }
      ]
    },
    {
      "cell_type": "markdown",
      "metadata": {
        "id": "1N00x9WJAn2Q"
      },
      "source": [
        "Perform regression on reduced data and check that no relevant information was truncated:"
      ]
    },
    {
      "cell_type": "code",
      "metadata": {
        "id": "nkFge6b6An2Q",
        "outputId": "09ef90fd-2297-44ca-d385-f12b32016553",
        "colab": {
          "base_uri": "https://localhost:8080/",
          "height": 268
        }
      },
      "source": [
        "# polynomial regression in the reduced dimension space\n",
        "poly_reg.fit(L, y_train)\n",
        "\n",
        "# predict test set \n",
        "pred = poly_reg.predict(dpca.transform(x_test))\n",
        "\n",
        "# compute error and plot\n",
        "plt.figure()\n",
        "plt.plot(y_test, pred, 'co', markerfacecolor=\"white\", label=\"predicted\")\n",
        "plt.plot(y_test, y_test, 'r--', label=\"ground truth\")\n",
        "plt.legend()\n",
        "plt.show()"
      ],
      "execution_count": 16,
      "outputs": [
        {
          "output_type": "display_data",
          "data": {
            "image/png": "[encoded data removed]",
            "text/plain": [
              "<Figure size 432x288 with 1 Axes>"
            ]
          },
          "metadata": {
            "tags": [],
            "needs_background": "light"
          }
        }
      ]
    },
    {
      "cell_type": "markdown",
      "metadata": {
        "id": "nFXwwE8UAn2R"
      },
      "source": [
        "And, finally, check that differential PCA correctly estimated the basket weights from data. Note that the principal components cannot correspond to the baskets, because the components are orthonormal by construction. What this means is that the principal components and the basket weights are meant to <b> span the same subspace </b>, which is easily verified below:"
      ]
    },
    {
      "cell_type": "code",
      "metadata": {
        "id": "xh1i4PAbAn2R",
        "outputId": "d4ef7ccd-dc0e-4a2b-c30d-812c4612ccb5",
        "colab": {
          "base_uri": "https://localhost:8080/"
        }
      },
      "source": [
        "# compare principal axes to basket weights\n",
        "\n",
        "print(dpca.n_components_) # 3\n",
        "\n",
        "axes = dpca.components_.T # 3 principal components in columns\n",
        "weights = np.array([basket.weights.ravel() for basket in bach3.baskets]).T # 3 vectors of basket weights in columns\n",
        "\n",
        "# check that weights and axes span the same 3-dimensional subspace\n",
        "# since axes are orthonormal, it is sufficient to check that weights belong to their spanned space\n",
        "\n",
        "# project weights onto axes\n",
        "projected_weights = axes @ axes.T @ weights \n",
        "# check that projection error is zero\n",
        "print(np.allclose(weights, projected_weights)) # True"
      ],
      "execution_count": 17,
      "outputs": [
        {
          "output_type": "stream",
          "text": [
            "3\n",
            "True\n"
          ],
          "name": "stdout"
        }
      ]
    },
    {
      "cell_type": "markdown",
      "metadata": {
        "id": "zX-bx4hzAn2R"
      },
      "source": [
        "This concludes the implementation and basic demonstration of differential PCA. The notebook [Bermudan5F.ipynb](https://github.com/differential-machine-learning/notebooks/blob/master/Bermudan5F.ipynb) further demonstrates it in the context of Bermudan options, highliting further properties and benefits of differential PCA in an example of practical relevance. The notebooks also highlights critical differences between classic and differential PCA, and shows how differential PCA identifies the risk factors of exotic Derivatives."
      ]
    },
    {
      "cell_type": "code",
      "metadata": {
        "id": "bea4_BXAAn2S"
      },
      "source": [
        ""
      ],
      "execution_count": null,
      "outputs": []
    }
  ]
}